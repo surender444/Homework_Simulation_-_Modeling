{
 "cells": [
  {
   "cell_type": "markdown",
   "metadata": {
    "id": "MZjBN_HdrL3w"
   },
   "source": [
    "##**Use sympy to solve the following questions**\n",
    "**1. Solve the quadratic function $x^2+2x-8=0$**"
   ]
  },
  {
   "cell_type": "code",
   "execution_count": 12,
   "metadata": {
    "id": "deEemH-qrnCG"
   },
   "outputs": [
    {
     "name": "stdout",
     "output_type": "stream",
     "text": [
      "[-4, 2]\n"
     ]
    }
   ],
   "source": [
    "# This is the answer of question 1 \n",
    "from sympy import symbols, Eq, solve\n",
    "\n",
    "x = symbols('x')\n",
    "equation = Eq(x**2 + 2*x - 8, 0)\n",
    "solutions = solve(equation, x)\n",
    "\n",
    "print(solutions)"
   ]
  },
  {
   "cell_type": "markdown",
   "metadata": {
    "id": "osWHgKk5t9MA"
   },
   "source": [
    "**2. What is the function f(x) which is equal to its\n",
    "derivative?**"
   ]
  },
  {
   "cell_type": "code",
   "execution_count": 13,
   "metadata": {
    "id": "MR8ijByJroeV"
   },
   "outputs": [],
   "source": [
    " # This is the answer of question 2\n",
    "#  The function f(x) can be written as the f(X)= e^x\n",
    "# This is because this is a straight maths equation, do not think any of this can be a need of a python code"
   ]
  },
  {
   "cell_type": "markdown",
   "metadata": {
    "id": "P2b7XyAD5qf1"
   },
   "source": [
    "**3. Compute the area under $f(x)=x^3$ from x=0 to x=1**"
   ]
  },
  {
   "cell_type": "code",
   "execution_count": 14,
   "metadata": {
    "id": "W1MNf_ptrqOK"
   },
   "outputs": [
    {
     "name": "stdout",
     "output_type": "stream",
     "text": [
      "1/4\n"
     ]
    }
   ],
   "source": [
    "# This is the answer of question 3\n",
    "from sympy import symbols, integrate\n",
    "\n",
    "x = symbols('x')\n",
    "function = x**3\n",
    "\n",
    "area = integrate(function, (x, 0, 1))\n",
    "print(area)"
   ]
  },
  {
   "cell_type": "markdown",
   "metadata": {
    "id": "X0WDytOW_0Ds"
   },
   "source": [
    "**4. Calculate $\\displaystyle\\sum\\limits_{x=0}^\\infty \\left(\\frac{1}{x!}\\right)$**"
   ]
  },
  {
   "cell_type": "code",
   "execution_count": 4,
   "metadata": {
    "id": "9j3BL9Tbrrhw"
   },
   "outputs": [
    {
     "name": "stdout",
     "output_type": "stream",
     "text": [
      "2.7182818011463845\n"
     ]
    }
   ],
   "source": [
    "#  This is this the answer of question 4 \n",
    "\n",
    "from numpy import math\n",
    "def sum_to_infinity(x):\n",
    "\n",
    "  sum = 0\n",
    "  for i in range(x + 1):\n",
    "    sum += 1 / math.factorial(i)\n",
    "\n",
    "  return sum\n",
    "\n",
    "\n",
    "if __name__ == \"__main__\":\n",
    "  x = 10\n",
    "\n",
    "  sum = sum_to_infinity(x)\n",
    "\n",
    "  print(sum)"
   ]
  },
  {
   "cell_type": "markdown",
   "metadata": {
    "id": "GX1ZPTnTCtrV"
   },
   "source": [
    "**5. Calculate $\\lim_{n \\rightarrow \\infty}(1+\\frac{1}{n})^n$**"
   ]
  },
  {
   "cell_type": "code",
   "execution_count": 15,
   "metadata": {
    "id": "9RuIX--BrwG_"
   },
   "outputs": [
    {
     "name": "stdout",
     "output_type": "stream",
     "text": [
      "E\n"
     ]
    }
   ],
   "source": [
    "#   This is the answer of question 5\n",
    "  \n",
    "\n",
    "from sympy import symbols, limit, oo\n",
    "\n",
    "n = symbols('n')\n",
    "expression = (1 + 1/n)**n\n",
    "result = limit(expression, n, oo)\n",
    "\n",
    "print(result)"
   ]
  },
  {
   "cell_type": "markdown",
   "metadata": {
    "id": "PJ_WIHAZE9P2"
   },
   "source": [
    "**6. flips the matrix through its diagonal $\\begin{bmatrix}2&-3&-8&7 \\\\-2&-1&2&-7\\\\ 1&0&-3&6 \\end{bmatrix}$**"
   ]
  },
  {
   "cell_type": "code",
   "execution_count": 16,
   "metadata": {
    "id": "DjIgeasrrw1d"
   },
   "outputs": [
    {
     "name": "stdout",
     "output_type": "stream",
     "text": [
      "Matrix([[2, -2, 1], [-3, -1, 0], [-8, 2, -3], [7, -7, 6]])\n"
     ]
    }
   ],
   "source": [
    "# This is the answer for question 6\n",
    "from sympy import Matrix\n",
    "\n",
    "matrix = Matrix([[2, -3, -8,7], [-2, -1,2, -7], [1,0,-3,6]])\n",
    "flipped_matrix = matrix.transpose()\n",
    "\n",
    "print(flipped_matrix)"
   ]
  },
  {
   "cell_type": "markdown",
   "metadata": {
    "id": "rLTC_3INOPdj"
   },
   "source": [
    "**7. Row operations: We know the following matrix**"
   ]
  },
  {
   "cell_type": "code",
   "execution_count": null,
   "metadata": {
    "colab": {
     "base_uri": "https://localhost:8080/",
     "height": 78
    },
    "id": "iWzjfQn0Ox_a",
    "outputId": "9a591e92-6369-4a7a-ddde-f4b3748e88b2"
   },
   "outputs": [
    {
     "data": {
      "text/latex": [
       "$\\displaystyle \\left[\\begin{matrix}1 & 0 & 0\\\\0 & 1 & 0\\\\0 & 0 & 1\\end{matrix}\\right]$"
      ],
      "text/plain": [
       "Matrix([\n",
       "[1, 0, 0],\n",
       "[0, 1, 0],\n",
       "[0, 0, 1]])"
      ]
     },
     "execution_count": 2,
     "metadata": {},
     "output_type": "execute_result"
    }
   ],
   "source": [
    " M = eye(3)\n",
    " M"
   ]
  },
  {
   "cell_type": "markdown",
   "metadata": {
    "id": "v8pI_LiDjkBj"
   },
   "source": [
    "**Do matrix row operations to R2 ← R2 + 3R1. (update Row 2 to R2+3*R1). Print the matrix**"
   ]
  },
  {
   "cell_type": "code",
   "execution_count": 7,
   "metadata": {
    "id": "WpVLzCfHrzd5"
   },
   "outputs": [
    {
     "name": "stdout",
     "output_type": "stream",
     "text": [
      "[[1. 0. 0.]\n",
      " [0. 1. 1.]\n",
      " [0. 0. 1.]]\n"
     ]
    }
   ],
   "source": [
    "# This is the answer for question 7\n",
    "import numpy as np\n",
    "\n",
    "def row_operations(matrix, row1, row2, operation):\n",
    " \n",
    "# matrix operation that was made in row 1 and row 2 \n",
    "  if operation == \"add\":\n",
    "    matrix[row1] += matrix[row2]\n",
    "  elif operation == \"subtract\":\n",
    "    matrix[row1] -= matrix[row2]\n",
    "  elif operation == \"multiply\":\n",
    "    matrix[row1] *= matrix[row2]\n",
    "  elif operation == \"divide\":\n",
    "    matrix[row1] /= matrix[row2]\n",
    "\n",
    "  return matrix\n",
    "\n",
    "\n",
    "def main():\n",
    "  matrix = np.eye(3)\n",
    "\n",
    "  matrix = row_operations(matrix, 1, 2, \"add\")\n",
    "\n",
    "  print(matrix)\n",
    "\n",
    "\n",
    "if __name__ == \"__main__\":\n",
    "  main()"
   ]
  },
  {
   "cell_type": "markdown",
   "metadata": {
    "id": "lStKMbpWkZky"
   },
   "source": [
    "**8.Find determinant of M**"
   ]
  },
  {
   "cell_type": "code",
   "execution_count": 8,
   "metadata": {
    "id": "klYDCja9r1N3"
   },
   "outputs": [
    {
     "name": "stdout",
     "output_type": "stream",
     "text": [
      "1\n"
     ]
    }
   ],
   "source": [
    "# This is the answer for question 8\n",
    "def determinant(matrix):\n",
    " \n",
    "#finding the determinant of the matrix \n",
    "  determinant = 1\n",
    "  for i in range(len(matrix)):\n",
    "    for j in range(i):\n",
    "      if matrix[i][j] != 0:\n",
    "        determinant *= matrix[i][j]\n",
    "\n",
    "  return determinant\n",
    "\n",
    "\n",
    "def main():\n",
    "  matrix = np.eye(3)\n",
    "\n",
    "  print(determinant(matrix))\n",
    "\n",
    "\n",
    "if __name__ == \"__main__\":\n",
    "  main()"
   ]
  },
  {
   "cell_type": "markdown",
   "metadata": {
    "id": "qaXra9fNlSDu"
   },
   "source": [
    "**9.Find the following matrix's eigenvalue and eigen vector**"
   ]
  },
  {
   "cell_type": "code",
   "execution_count": 9,
   "metadata": {
    "id": "W8cpvW7lljCv"
   },
   "outputs": [
    {
     "name": "stdout",
     "output_type": "stream",
     "text": [
      "Eigenvalues: {10: 1, 5: 1}\n",
      "Eigenvectors: [(5, 1, [Matrix([\n",
      "[1/2],\n",
      "[  1]])]), (10, 1, [Matrix([\n",
      "[-2],\n",
      "[ 1]])])]\n"
     ]
    }
   ],
   "source": [
    "# This is the answer for question 9\n",
    "from sympy import Matrix\n",
    "\n",
    "M = Matrix([[9, -2], [-2, 6]])\n",
    "eigenvals = M.eigenvals()\n",
    "eigenvects = M.eigenvects()\n",
    "\n",
    "print(\"Eigenvalues:\", eigenvals)\n",
    "print(\"Eigenvectors:\", eigenvects)"
   ]
  },
  {
   "cell_type": "markdown",
   "metadata": {
    "id": "T0NeZ4Hwo1Uy"
   },
   "source": [
    "**10. Implement the Predator-prey model in python**\n",
    "\n",
    "Suppose fish starts at 10 hundreds, bears starts at 1 hundred\n",
    "\n",
    "alpha = 1.1\n",
    "\n",
    "beta = 0.4\n",
    "\n",
    "delta = 0.1\n",
    "\n",
    "gamma = 0.4\n",
    "\n",
    "draw the plots(bear-time, fish-time)\n",
    "\n",
    "t = np.linspace(0,50,num=1000)\n"
   ]
  },
  {
   "cell_type": "code",
   "execution_count": 17,
   "metadata": {},
   "outputs": [
    {
     "data": {
      "image/png": "[encoded data removed]",
      "text/plain": [
       "<Figure size 640x480 with 1 Axes>"
      ]
     },
     "metadata": {},
     "output_type": "display_data"
    }
   ],
   "source": [
    "# This is the answer for question 10\n",
    "\n",
    "import numpy as np\n",
    "from scipy.integrate import odeint\n",
    "import matplotlib.pyplot as plt\n",
    "\n",
    "\n",
    "def predator_prey(y, t, alpha, beta, delta, gamma):\n",
    "    fish, bears = y\n",
    "    fish_derivative = alpha * fish - beta * fish * bears\n",
    "    bears_derivative = delta * fish * bears - gamma * bears\n",
    "    return [fish_derivative, bears_derivative]\n",
    "\n",
    "fish_initial = 10\n",
    "bears_initial = 1\n",
    "alpha = 1.1\n",
    "beta = 0.4\n",
    "delta = 0.1\n",
    "gamma = 0.4\n",
    "\n",
    "t = np.linspace(0, 50, num=1000)\n",
    "\n",
    "solution = odeint(predator_prey, [fish_initial, bears_initial], t, args=(alpha, beta, delta, gamma))\n",
    "fish_population = solution[:, 0]\n",
    "bears_population = solution[:, 1]\n",
    "\n",
    "plt.plot(t, fish_population, label='Fish')\n",
    "plt.plot(t, bears_population, label='Bears')\n",
    "plt.xlabel('Time')\n",
    "plt.ylabel('Population')\n",
    "plt.title('Predator-Prey Model')\n",
    "plt.legend()\n",
    "plt.grid(True)\n",
    "plt.show()"
   ]
  },
  {
   "cell_type": "code",
   "execution_count": null,
   "metadata": {},
   "outputs": [],
   "source": []
  }
 ],
 "metadata": {
  "colab": {
   "collapsed_sections": [],
   "name": "homework1.ipynb",
   "provenance": []
  },
  "kernelspec": {
   "display_name": "Python 3 (ipykernel)",
   "language": "python",
   "name": "python3"
  },
  "language_info": {
   "codemirror_mode": {
    "name": "ipython",
    "version": 3
   },
   "file_extension": ".py",
   "mimetype": "text/x-python",
   "name": "python",
   "nbconvert_exporter": "python",
   "pygments_lexer": "ipython3",
   "version": "3.10.9"
  }
 },
 "nbformat": 4,
 "nbformat_minor": 1
}
